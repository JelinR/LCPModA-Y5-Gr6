{
 "cells": [
  {
   "cell_type": "code",
   "execution_count": 14,
   "metadata": {},
   "outputs": [],
   "source": [
    "import pandas as pd\n",
    "import numpy as np\n",
    "import matplotlib.pyplot as plt"
   ]
  },
  {
   "cell_type": "code",
   "execution_count": 28,
   "metadata": {},
   "outputs": [],
   "source": [
    "# Cell dimensions\n",
    "XCELL = 42.\n",
    "ZCELL = 13.\n",
    "\n",
    "# X coordinates translation\n",
    "global_x_shifts = [994.2, 947.4,-267.4,-261.5,]\n",
    "\n",
    "# Z coordinates translations\n",
    "local_z_shifts = [z*ZCELL for z  in range(0,4)]\n",
    "global_z_shifts = [823.5, 0, 823.5, 0]"
   ]
  },
  {
   "cell_type": "code",
   "execution_count": 2,
   "metadata": {},
   "outputs": [],
   "source": [
    "def event_plot():\n",
    "    plt.plot()"
   ]
  },
  {
   "cell_type": "code",
   "execution_count": 26,
   "metadata": {},
   "outputs": [
    {
     "name": "stdout",
     "output_type": "stream",
     "text": [
      "8182\n"
     ]
    },
    {
     "data": {
      "text/html": [
       "<div>\n",
       "<style scoped>\n",
       "    .dataframe tbody tr th:only-of-type {\n",
       "        vertical-align: middle;\n",
       "    }\n",
       "\n",
       "    .dataframe tbody tr th {\n",
       "        vertical-align: top;\n",
       "    }\n",
       "\n",
       "    .dataframe thead th {\n",
       "        text-align: right;\n",
       "    }\n",
       "</style>\n",
       "<table border=\"1\" class=\"dataframe\">\n",
       "  <thead>\n",
       "    <tr style=\"text-align: right;\">\n",
       "      <th></th>\n",
       "      <th>chamber</th>\n",
       "      <th>layer</th>\n",
       "      <th>x_left</th>\n",
       "      <th>x_right</th>\n",
       "    </tr>\n",
       "  </thead>\n",
       "  <tbody>\n",
       "    <tr>\n",
       "      <th>0</th>\n",
       "      <td>0</td>\n",
       "      <td>4</td>\n",
       "      <td>165.60</td>\n",
       "      <td>170.40</td>\n",
       "    </tr>\n",
       "    <tr>\n",
       "      <th>1</th>\n",
       "      <td>0</td>\n",
       "      <td>1</td>\n",
       "      <td>101.50</td>\n",
       "      <td>108.50</td>\n",
       "    </tr>\n",
       "    <tr>\n",
       "      <th>2</th>\n",
       "      <td>0</td>\n",
       "      <td>2</td>\n",
       "      <td>113.10</td>\n",
       "      <td>138.90</td>\n",
       "    </tr>\n",
       "    <tr>\n",
       "      <th>3</th>\n",
       "      <td>3</td>\n",
       "      <td>3</td>\n",
       "      <td>20.03</td>\n",
       "      <td>21.97</td>\n",
       "    </tr>\n",
       "    <tr>\n",
       "      <th>4</th>\n",
       "      <td>3</td>\n",
       "      <td>4</td>\n",
       "      <td>28.51</td>\n",
       "      <td>55.49</td>\n",
       "    </tr>\n",
       "    <tr>\n",
       "      <th>5</th>\n",
       "      <td>3</td>\n",
       "      <td>1</td>\n",
       "      <td>11.33</td>\n",
       "      <td>30.67</td>\n",
       "    </tr>\n",
       "  </tbody>\n",
       "</table>\n",
       "</div>"
      ],
      "text/plain": [
       "   chamber  layer  x_left  x_right\n",
       "0        0      4  165.60   170.40\n",
       "1        0      1  101.50   108.50\n",
       "2        0      2  113.10   138.90\n",
       "3        3      3   20.03    21.97\n",
       "4        3      4   28.51    55.49\n",
       "5        3      1   11.33    30.67"
      ]
     },
     "execution_count": 26,
     "metadata": {},
     "output_type": "execute_result"
    }
   ],
   "source": [
    "with open(\"data/Run000260/data_000000.txt\", 'r+') as file:\n",
    "    body = file.readlines()\n",
    "\n",
    "column_names = [\"chamber\", \"layer\", \"x_left\", \"x_right\", \"time\"]\n",
    "data = []\n",
    "\n",
    "for line in body[:1000]:\n",
    "    info = line.replace(\"\\n\", \"\").split(\" \")\n",
    "    hits = [info[5*i+2:5*i+7] for i in range(int(info[1]))]\n",
    "    event = pd.DataFrame(hits, columns = column_names, dtype=float).astype({\"chamber\":\"int\", \"layer\":\"int\"}).drop(labels=\"time\", axis=1)\n",
    "    data.append(event)\n"
   ]
  }
 ],
 "metadata": {
  "kernelspec": {
   "display_name": "Python 3",
   "language": "python",
   "name": "python3"
  },
  "language_info": {
   "codemirror_mode": {
    "name": "ipython",
    "version": 3
   },
   "file_extension": ".py",
   "mimetype": "text/x-python",
   "name": "python",
   "nbconvert_exporter": "python",
   "pygments_lexer": "ipython3",
   "version": "3.11.0"
  },
  "orig_nbformat": 4,
  "vscode": {
   "interpreter": {
    "hash": "57bdff4ae702cce0061de04de5e4bebd838c397d6162543f68e08480d2cafe19"
   }
  }
 },
 "nbformat": 4,
 "nbformat_minor": 2
}
